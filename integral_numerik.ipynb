{
 "cells": [
  {
   "cell_type": "code",
   "execution_count": 42,
   "id": "23591368-1268-4525-ba00-b883db3ffc18",
   "metadata": {},
   "outputs": [],
   "source": [
    "# Beberapa contoh fungsi matematika\n",
    "import math \n",
    "\n",
    "def flinear(x):\n",
    "    ylin = 3 * x - 5\n",
    "    return ylin\n",
    "def fkuadrat(x):\n",
    "    ykuad = -2 * x ** 2 + 3 * x + 7\n",
    "    return ykuad\n",
    "def fsinus(x):\n",
    "    ysin = math.sin(x * math.pi/180)\n",
    "    return ysin\n",
    "def flogn(x):\n",
    "    yln = math.log(x + 1)\n",
    "    return yln"
   ]
  },
  {
   "cell_type": "code",
   "execution_count": 79,
   "id": "8da9141c-8d1a-45fb-a806-e0d63b712f03",
   "metadata": {},
   "outputs": [],
   "source": [
    "# Fungsi integral numerik\n",
    "\n",
    "def integral_kotak(namafungsi, batas_kiri, batas_kanan, banyak_kotak):\n",
    "    lebar_kotak = (batas_kanan - batas_kiri) / banyak_kotak\n",
    "    luas_tiap_kotak = [0] * banyak_kotak\n",
    "    for i in range(1, banyak_kotak + 1):\n",
    "        luas_tiap_kotak[i-1] = namafungsi(batas_kiri + (i - 1) * lebar_kotak) * lebar_kotak\n",
    "    hasil_integral = sum(luas_tiap_kotak)\n",
    "    return hasil_integral\n",
    "\n",
    "def integral_trapesium(namafungsi, batas_kiri, batas_kanan,banyak_trapesium):\n",
    "    lebar_trapesium = (batas_kanan - batas_kiri) / banyak_trapesium\n",
    "    y_kiri = namafungsi(batas_kiri)\n",
    "    y_kanan = namafungsi(batas_kanan)\n",
    "    if (banyak_trapesium == 1):\n",
    "        hasil_integral = 0.5 * lebar_trapesium * (y_kiri + y_kanan)\n",
    "    else: \n",
    "       y_antara = [0] * banyak_trapesium\n",
    "    for k in range(1, banyak_trapesium):\n",
    "       y_antara[k] = namafungsi(batas_kiri + k * lebar_trapesium)\n",
    "    hasil_integral = 0.5 * lebar_trapesium * (y_kiri + 2 * sum(y_antara) + y_kanan)\n",
    "    return(hasil_integral)"
   ]
  },
  {
   "cell_type": "code",
   "execution_count": 85,
   "id": "56db6868-85e0-49ab-98cf-d1718e230459",
   "metadata": {},
   "outputs": [
    {
     "data": {
      "text/plain": [
       "1.4100000000000013"
      ]
     },
     "execution_count": 85,
     "metadata": {},
     "output_type": "execute_result"
    }
   ],
   "source": [
    "integral_trapesium(fkuadrat, 1, 4, 10)"
   ]
  },
  {
   "cell_type": "code",
   "execution_count": null,
   "id": "8974e252-ded8-4842-a0e7-77522663d743",
   "metadata": {},
   "outputs": [],
   "source": []
  },
  {
   "cell_type": "code",
   "execution_count": null,
   "id": "adee623f-bcd1-4e8e-90c1-a803904e0d46",
   "metadata": {},
   "outputs": [],
   "source": []
  }
 ],
 "metadata": {
  "kernelspec": {
   "display_name": "Python 3 (ipykernel)",
   "language": "python",
   "name": "python3"
  },
  "language_info": {
   "codemirror_mode": {
    "name": "ipython",
    "version": 3
   },
   "file_extension": ".py",
   "mimetype": "text/x-python",
   "name": "python",
   "nbconvert_exporter": "python",
   "pygments_lexer": "ipython3",
   "version": "3.12.2"
  }
 },
 "nbformat": 4,
 "nbformat_minor": 5
}
